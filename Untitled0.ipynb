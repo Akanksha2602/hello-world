{
  "nbformat": 4,
  "nbformat_minor": 0,
  "metadata": {
    "colab": {
      "name": "Untitled0.ipynb",
      "provenance": [],
      "authorship_tag": "ABX9TyNh/IY3sazC59rTl9o/P+LM",
      "include_colab_link": true
    },
    "kernelspec": {
      "name": "python3",
      "display_name": "Python 3"
    }
  },
  "cells": [
    {
      "cell_type": "markdown",
      "metadata": {
        "id": "view-in-github",
        "colab_type": "text"
      },
      "source": [
        "<a href=\"https://colab.research.google.com/github/Akanksha2602/hello-world/blob/main/Untitled0.ipynb\" target=\"_parent\"><img src=\"https://colab.research.google.com/assets/colab-badge.svg\" alt=\"Open In Colab\"/></a>"
      ]
    },
    {
      "cell_type": "code",
      "metadata": {
        "id": "8lMs24zaNzHc"
      },
      "source": [
        "Menu=['pizza','burger','pasta','pepsi','sandwich','momos','icecream','milkshake','juice']\n",
        "print(\"Menu\")\n",
        "print(Menu)"
      ],
      "execution_count": null,
      "outputs": []
    },
    {
      "cell_type": "code",
      "metadata": {
        "id": "Gbci3Q93N6XG",
        "colab": {
          "base_uri": "https://localhost:8080/"
        },
        "outputId": "31ccca63-a25c-42ca-a4ee-12277758ce2c"
      },
      "source": [
        "x=input()\n",
        "y=[\"a\",\"e\",\"i\",\"o\",\"u\"]\n",
        "for i in x:\n",
        "  if i in y:\n",
        "    print(\"vowel\"+i)\n",
        "  else:\n",
        "    print(\"consonant\"+i)\n",
        "    "
      ],
      "execution_count": null,
      "outputs": [
        {
          "output_type": "stream",
          "text": [
            "akanksha\n",
            "vowela\n",
            "consonantk\n",
            "vowela\n",
            "consonantn\n",
            "consonantk\n",
            "consonants\n",
            "consonanth\n",
            "vowela\n"
          ],
          "name": "stdout"
        }
      ]
    },
    {
      "cell_type": "code",
      "metadata": {
        "id": "M8bU5dJ9omUl",
        "colab": {
          "base_uri": "https://localhost:8080/"
        },
        "outputId": "1cf2e8bb-a8fa-47e1-c952-f26131010f8f"
      },
      "source": [
        "#secure comunication\r\n",
        "print(\"hello mit cell\")\r\n",
        "k=int(input(\"please enter k value to shift original message:\"))\r\n",
        "message=input(\"Now please type your message:\")\r\n",
        "str=\" \"\r\n",
        "for c in message:\r\n",
        "  if c.isalpha:\r\n",
        "    m=chr(ord(c)+k)\r\n",
        "    str+=m\r\n",
        "  elif c==\" \":\r\n",
        "    str+=\"@\"\r\n",
        "  elif c==\".\":\r\n",
        "    str+=\"#\"\r\n",
        "  else:\r\n",
        "    str+=c\r\n",
        "print(\"Hello you send: \"+str)\r\n",
        "print(\"\\nHello instructor \")\r\n",
        "print(\"You got a message:\"+str)\r\n",
        "p=int(input(\"to read this in original please type k value provided by cell\"))\r\n",
        "if p==k:\r\n",
        "  print(\"origi message: \"+message)\r\n"
      ],
      "execution_count": null,
      "outputs": [
        {
          "output_type": "stream",
          "text": [
            "hello mit cell\n",
            "please enter k value to shift original message:10\n",
            "Now please type your message:today is holiday\n",
            "Hello you send:  ~ynk*s}*ryvsnk\n",
            "\n",
            "Hello instructor \n",
            "You got a message: ~ynk*s}*ryvsnk\n",
            "to read this in original please type k value provided by cell20\n"
          ],
          "name": "stdout"
        }
      ]
    },
    {
      "cell_type": "code",
      "metadata": {
        "id": "thB_XlzCQX1j",
        "colab": {
          "base_uri": "https://localhost:8080/"
        },
        "outputId": "41ea10cc-f9e0-4d4a-9d29-df069fddc8f0"
      },
      "source": [
        "#deposite and withdraw\r\n",
        "balance=750\r\n",
        "def deposite(d):\r\n",
        "  global balance\r\n",
        "  balance+=d\r\n",
        "def withdraw(w):\r\n",
        "  global balance\r\n",
        "  balance-=w\r\n",
        "\r\n",
        "deposite(500)\r\n",
        "withdraw(250)\r\n",
        "print(balance)\r\n"
      ],
      "execution_count": null,
      "outputs": [
        {
          "output_type": "stream",
          "text": [
            "1000\n"
          ],
          "name": "stdout"
        }
      ]
    },
    {
      "cell_type": "code",
      "metadata": {
        "colab": {
          "base_uri": "https://localhost:8080/"
        },
        "id": "M08-S3jZbilt",
        "outputId": "b16f6b49-102f-48f4-c262-50b042a9c561"
      },
      "source": [
        "class Bank_account:\r\n",
        "  balance=0\r\n",
        "  def __init__(self,balance):\r\n",
        "    self.balance=750\r\n",
        "  def deposite(self,d):\r\n",
        "    self.balance+=d\r\n",
        "    print(balance)\r\n",
        "  def withdraw(self,w):\r\n",
        "    self.balance-=w\r\n",
        "    print(balance)\r\n",
        "  def balance1(self):\r\n",
        "    print(self.balance)\r\n",
        "obj=Bank_account(100)\r\n",
        "obj.deposite(500)\r\n",
        "obj.withdraw(250)\r\n",
        "obj.balance1()\r\n"
      ],
      "execution_count": null,
      "outputs": [
        {
          "output_type": "stream",
          "text": [
            "1000\n",
            "1000\n",
            "1000\n"
          ],
          "name": "stdout"
        }
      ]
    },
    {
      "cell_type": "code",
      "metadata": {
        "id": "Sxk76B1uceuJ"
      },
      "source": [
        "class customer:\r\n",
        "  def __init__(self,name,address,ID,email,gender):\r\n",
        "    self.name=name\r\n",
        "    self.address=address\r\n",
        "    self.ID=ID \r\n",
        "    self.email=email\r\n",
        "    self.gender=gender\r\n",
        "  def Register(self):\r\n",
        "    print(\"dd\")\r\n",
        "  def login(self):\r\n",
        "    print(\"dd\")\r\n",
        "  def add_item(self):\r\n",
        "    print(\"dd\")\r\n",
        "  def view_detail(self):\r\n",
        "    print(\"dd\")\r\n",
        "  def add_cost(self):\r\n",
        "    print(\"dd\")\r\n",
        "  def cost_cal(self):\r\n",
        "    print(\"dd\")\r\n",
        "  def payment_method(self):\r\n",
        "    print(\"dd\")\r\n",
        "  def logout(self):\r\n",
        "    print(\"dd\")  \r\n",
        "\r\n",
        "\r\n",
        "cus=customer(\"koko\",\"mbd\",1,\"lolo@mm\",\"F\")\r\n",
        "\r\n"
      ],
      "execution_count": 12,
      "outputs": []
    },
    {
      "cell_type": "code",
      "metadata": {
        "id": "szgBfHqeaIGJ"
      },
      "source": [
        "\r\n",
        "\r\n"
      ],
      "execution_count": null,
      "outputs": []
    }
  ]
}