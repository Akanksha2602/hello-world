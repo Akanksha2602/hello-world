{
  "nbformat": 4,
  "nbformat_minor": 0,
  "metadata": {
    "colab": {
      "name": "Untitled0.ipynb",
      "provenance": [],
      "authorship_tag": "ABX9TyMyCl+jHSDOPN+bGACGRr3P",
      "include_colab_link": true
    },
    "kernelspec": {
      "name": "python3",
      "display_name": "Python 3"
    }
  },
  "cells": [
    {
      "cell_type": "markdown",
      "metadata": {
        "id": "view-in-github",
        "colab_type": "text"
      },
      "source": [
        "<a href=\"https://colab.research.google.com/github/Akanksha2602/hello-world/blob/main/Untitled0.ipynb\" target=\"_parent\"><img src=\"https://colab.research.google.com/assets/colab-badge.svg\" alt=\"Open In Colab\"/></a>"
      ]
    },
    {
      "cell_type": "code",
      "metadata": {
        "id": "8lMs24zaNzHc"
      },
      "source": [
        "Menu=['pizza','burger','pasta','pepsi','sandwich','momos','icecream','milkshake','juice']\n",
        "print(\"Menu\")\n",
        "print(Menu)"
      ],
      "execution_count": null,
      "outputs": []
    },
    {
      "cell_type": "code",
      "metadata": {
        "id": "Gbci3Q93N6XG",
        "colab": {
          "base_uri": "https://localhost:8080/"
        },
        "outputId": "31ccca63-a25c-42ca-a4ee-12277758ce2c"
      },
      "source": [
        "x=input()\n",
        "y=[\"a\",\"e\",\"i\",\"o\",\"u\"]\n",
        "for i in x:\n",
        "  if i in y:\n",
        "    print(\"vowel\"+i)\n",
        "  else:\n",
        "    print(\"consonant\"+i)\n",
        "    "
      ],
      "execution_count": null,
      "outputs": [
        {
          "output_type": "stream",
          "text": [
            "akanksha\n",
            "vowela\n",
            "consonantk\n",
            "vowela\n",
            "consonantn\n",
            "consonantk\n",
            "consonants\n",
            "consonanth\n",
            "vowela\n"
          ],
          "name": "stdout"
        }
      ]
    },
    {
      "cell_type": "code",
      "metadata": {
        "id": "M8bU5dJ9omUl",
        "outputId": "1cf2e8bb-a8fa-47e1-c952-f26131010f8f",
        "colab": {
          "base_uri": "https://localhost:8080/"
        }
      },
      "source": [
        "#secure comunication\r\n",
        "print(\"hello mit cell\")\r\n",
        "k=int(input(\"please enter k value to shift original message:\"))\r\n",
        "message=input(\"Now please type your message:\")\r\n",
        "str=\" \"\r\n",
        "for c in message:\r\n",
        "  if c.isalpha:\r\n",
        "    m=chr(ord(c)+k)\r\n",
        "    str+=m\r\n",
        "  elif c==\" \":\r\n",
        "    str+=\"@\"\r\n",
        "  elif c==\".\":\r\n",
        "    str+=\"#\"\r\n",
        "  else:\r\n",
        "    str+=c\r\n",
        "print(\"Hello you send: \"+str)\r\n",
        "print(\"\\nHello instructor \")\r\n",
        "print(\"You got a message:\"+str)\r\n",
        "p=int(input(\"to read this in original please type k value provided by cell\"))\r\n",
        "if p==k:\r\n",
        "  print(\"origi message: \"+message)\r\n"
      ],
      "execution_count": 10,
      "outputs": [
        {
          "output_type": "stream",
          "text": [
            "hello mit cell\n",
            "please enter k value to shift original message:10\n",
            "Now please type your message:today is holiday\n",
            "Hello you send:  ~ynk*s}*ryvsnk\n",
            "\n",
            "Hello instructor \n",
            "You got a message: ~ynk*s}*ryvsnk\n",
            "to read this in original please type k value provided by cell20\n"
          ],
          "name": "stdout"
        }
      ]
    },
    {
      "cell_type": "code",
      "metadata": {
        "id": "thB_XlzCQX1j"
      },
      "source": [
        ""
      ],
      "execution_count": null,
      "outputs": []
    }
  ]
}