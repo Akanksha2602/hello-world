{
  "nbformat": 4,
  "nbformat_minor": 0,
  "metadata": {
    "colab": {
      "name": "Untitled0.ipynb",
      "provenance": [],
      "authorship_tag": "ABX9TyMJqy5uyQX4ON+8xkr5um9N",
      "include_colab_link": true
    },
    "kernelspec": {
      "name": "python3",
      "display_name": "Python 3"
    }
  },
  "cells": [
    {
      "cell_type": "markdown",
      "metadata": {
        "id": "view-in-github",
        "colab_type": "text"
      },
      "source": [
        "<a href=\"https://colab.research.google.com/github/Akanksha2602/hello-world/blob/main/Untitled0.ipynb\" target=\"_parent\"><img src=\"https://colab.research.google.com/assets/colab-badge.svg\" alt=\"Open In Colab\"/></a>"
      ]
    },
    {
      "cell_type": "code",
      "metadata": {
        "id": "8lMs24zaNzHc"
      },
      "source": [
        "Menu=['pizza','burger','pasta','pepsi','sandwich','momos','icecream','milkshake','juice']\n",
        "print(\"Menu\")\n",
        "print(Menu)"
      ],
      "execution_count": null,
      "outputs": []
    },
    {
      "cell_type": "code",
      "metadata": {
        "id": "Gbci3Q93N6XG",
        "colab": {
          "base_uri": "https://localhost:8080/"
        },
        "outputId": "31ccca63-a25c-42ca-a4ee-12277758ce2c"
      },
      "source": [
        "x=input()\n",
        "y=[\"a\",\"e\",\"i\",\"o\",\"u\"]\n",
        "for i in x:\n",
        "  if i in y:\n",
        "    print(\"vowel\"+i)\n",
        "  else:\n",
        "    print(\"consonant\"+i)\n",
        "    "
      ],
      "execution_count": 3,
      "outputs": [
        {
          "output_type": "stream",
          "text": [
            "akanksha\n",
            "vowela\n",
            "consonantk\n",
            "vowela\n",
            "consonantn\n",
            "consonantk\n",
            "consonants\n",
            "consonanth\n",
            "vowela\n"
          ],
          "name": "stdout"
        }
      ]
    },
    {
      "cell_type": "code",
      "metadata": {
        "id": "M8bU5dJ9omUl"
      },
      "source": [
        ""
      ],
      "execution_count": null,
      "outputs": []
    }
  ]
}